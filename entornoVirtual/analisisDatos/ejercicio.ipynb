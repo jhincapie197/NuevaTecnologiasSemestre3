{
 "cells": [
  {
   "cell_type": "code",
   "execution_count": 1,
   "metadata": {},
   "outputs": [],
   "source": [
    "import pandas as pd"
   ]
  },
  {
   "cell_type": "code",
   "execution_count": 2,
   "metadata": {},
   "outputs": [
    {
     "name": "stdout",
     "output_type": "stream",
     "text": [
      "       NOMBRE  EDAD GENERO                 CARRERA SEMESTRE\n",
      "0      Victor    23      M          Diseño Grafico  Segundo\n",
      "1      Josefa    15      F  Desarrollo de software  Primero\n",
      "2        Raul    30      M          Diseño Grafico  Tercero\n",
      "3     Nayrobi    20      F              Enfermeria  Primero\n",
      "4   Anastasia    40      F             Gastronomia  Segundo\n",
      "5     Rolando    40      M           Audiovisuales  Segundo\n",
      "6      Carlos    15      M           Audiovisuales  Segundo\n",
      "7       Pedro    13      M  Desarrollo de software  Primero\n",
      "8       Julio    25      M             Gastronomia  Segundo\n",
      "9    Isabella    68      F              Enfermeria  Primero\n",
      "10     Susana    77      F              Enfermeria  Primero\n",
      "11   Fernando    33      M  Desarrollo de software  Primero\n"
     ]
    }
   ],
   "source": [
    "estudiantes = pd.read_csv(\"estudiantes.csv\")\n",
    "print(estudiantes)"
   ]
  },
  {
   "cell_type": "code",
   "execution_count": 3,
   "metadata": {},
   "outputs": [
    {
     "name": "stdout",
     "output_type": "stream",
     "text": [
      "<class 'pandas.core.frame.DataFrame'>\n",
      "RangeIndex: 12 entries, 0 to 11\n",
      "Data columns (total 5 columns):\n",
      " #   Column    Non-Null Count  Dtype \n",
      "---  ------    --------------  ----- \n",
      " 0   NOMBRE    12 non-null     object\n",
      " 1   EDAD      12 non-null     int64 \n",
      " 2   GENERO    12 non-null     object\n",
      " 3   CARRERA   12 non-null     object\n",
      " 4   SEMESTRE  12 non-null     object\n",
      "dtypes: int64(1), object(4)\n",
      "memory usage: 612.0+ bytes\n"
     ]
    }
   ],
   "source": [
    "estudiantes.info()"
   ]
  },
  {
   "cell_type": "code",
   "execution_count": 5,
   "metadata": {},
   "outputs": [
    {
     "data": {
      "text/html": [
       "<div>\n",
       "<style scoped>\n",
       "    .dataframe tbody tr th:only-of-type {\n",
       "        vertical-align: middle;\n",
       "    }\n",
       "\n",
       "    .dataframe tbody tr th {\n",
       "        vertical-align: top;\n",
       "    }\n",
       "\n",
       "    .dataframe thead th {\n",
       "        text-align: right;\n",
       "    }\n",
       "</style>\n",
       "<table border=\"1\" class=\"dataframe\">\n",
       "  <thead>\n",
       "    <tr style=\"text-align: right;\">\n",
       "      <th></th>\n",
       "      <th>NOMBRE</th>\n",
       "      <th>EDAD</th>\n",
       "      <th>GENERO</th>\n",
       "      <th>CARRERA</th>\n",
       "      <th>SEMESTRE</th>\n",
       "    </tr>\n",
       "  </thead>\n",
       "  <tbody>\n",
       "    <tr>\n",
       "      <th>0</th>\n",
       "      <td>Victor</td>\n",
       "      <td>23</td>\n",
       "      <td>M</td>\n",
       "      <td>Diseño Grafico</td>\n",
       "      <td>Segundo</td>\n",
       "    </tr>\n",
       "    <tr>\n",
       "      <th>1</th>\n",
       "      <td>Josefa</td>\n",
       "      <td>15</td>\n",
       "      <td>F</td>\n",
       "      <td>Desarrollo de software</td>\n",
       "      <td>Primero</td>\n",
       "    </tr>\n",
       "    <tr>\n",
       "      <th>2</th>\n",
       "      <td>Raul</td>\n",
       "      <td>30</td>\n",
       "      <td>M</td>\n",
       "      <td>Diseño Grafico</td>\n",
       "      <td>Tercero</td>\n",
       "    </tr>\n",
       "    <tr>\n",
       "      <th>3</th>\n",
       "      <td>Nayrobi</td>\n",
       "      <td>20</td>\n",
       "      <td>F</td>\n",
       "      <td>Enfermeria</td>\n",
       "      <td>Primero</td>\n",
       "    </tr>\n",
       "    <tr>\n",
       "      <th>4</th>\n",
       "      <td>Anastasia</td>\n",
       "      <td>40</td>\n",
       "      <td>F</td>\n",
       "      <td>Gastronomia</td>\n",
       "      <td>Segundo</td>\n",
       "    </tr>\n",
       "    <tr>\n",
       "      <th>5</th>\n",
       "      <td>Rolando</td>\n",
       "      <td>40</td>\n",
       "      <td>M</td>\n",
       "      <td>Audiovisuales</td>\n",
       "      <td>Segundo</td>\n",
       "    </tr>\n",
       "    <tr>\n",
       "      <th>6</th>\n",
       "      <td>Carlos</td>\n",
       "      <td>15</td>\n",
       "      <td>M</td>\n",
       "      <td>Audiovisuales</td>\n",
       "      <td>Segundo</td>\n",
       "    </tr>\n",
       "    <tr>\n",
       "      <th>7</th>\n",
       "      <td>Pedro</td>\n",
       "      <td>13</td>\n",
       "      <td>M</td>\n",
       "      <td>Desarrollo de software</td>\n",
       "      <td>Primero</td>\n",
       "    </tr>\n",
       "    <tr>\n",
       "      <th>8</th>\n",
       "      <td>Julio</td>\n",
       "      <td>25</td>\n",
       "      <td>M</td>\n",
       "      <td>Gastronomia</td>\n",
       "      <td>Segundo</td>\n",
       "    </tr>\n",
       "  </tbody>\n",
       "</table>\n",
       "</div>"
      ],
      "text/plain": [
       "      NOMBRE  EDAD GENERO                 CARRERA SEMESTRE\n",
       "0     Victor    23      M          Diseño Grafico  Segundo\n",
       "1     Josefa    15      F  Desarrollo de software  Primero\n",
       "2       Raul    30      M          Diseño Grafico  Tercero\n",
       "3    Nayrobi    20      F              Enfermeria  Primero\n",
       "4  Anastasia    40      F             Gastronomia  Segundo\n",
       "5    Rolando    40      M           Audiovisuales  Segundo\n",
       "6     Carlos    15      M           Audiovisuales  Segundo\n",
       "7      Pedro    13      M  Desarrollo de software  Primero\n",
       "8      Julio    25      M             Gastronomia  Segundo"
      ]
     },
     "execution_count": 5,
     "metadata": {},
     "output_type": "execute_result"
    }
   ],
   "source": [
    "estudiantes.head(9)"
   ]
  },
  {
   "cell_type": "code",
   "execution_count": 6,
   "metadata": {},
   "outputs": [
    {
     "data": {
      "text/html": [
       "<div>\n",
       "<style scoped>\n",
       "    .dataframe tbody tr th:only-of-type {\n",
       "        vertical-align: middle;\n",
       "    }\n",
       "\n",
       "    .dataframe tbody tr th {\n",
       "        vertical-align: top;\n",
       "    }\n",
       "\n",
       "    .dataframe thead th {\n",
       "        text-align: right;\n",
       "    }\n",
       "</style>\n",
       "<table border=\"1\" class=\"dataframe\">\n",
       "  <thead>\n",
       "    <tr style=\"text-align: right;\">\n",
       "      <th></th>\n",
       "      <th>NOMBRE</th>\n",
       "      <th>EDAD</th>\n",
       "      <th>GENERO</th>\n",
       "      <th>CARRERA</th>\n",
       "      <th>SEMESTRE</th>\n",
       "    </tr>\n",
       "  </thead>\n",
       "  <tbody>\n",
       "    <tr>\n",
       "      <th>7</th>\n",
       "      <td>Pedro</td>\n",
       "      <td>13</td>\n",
       "      <td>M</td>\n",
       "      <td>Desarrollo de software</td>\n",
       "      <td>Primero</td>\n",
       "    </tr>\n",
       "    <tr>\n",
       "      <th>8</th>\n",
       "      <td>Julio</td>\n",
       "      <td>25</td>\n",
       "      <td>M</td>\n",
       "      <td>Gastronomia</td>\n",
       "      <td>Segundo</td>\n",
       "    </tr>\n",
       "    <tr>\n",
       "      <th>9</th>\n",
       "      <td>Isabella</td>\n",
       "      <td>68</td>\n",
       "      <td>F</td>\n",
       "      <td>Enfermeria</td>\n",
       "      <td>Primero</td>\n",
       "    </tr>\n",
       "    <tr>\n",
       "      <th>10</th>\n",
       "      <td>Susana</td>\n",
       "      <td>77</td>\n",
       "      <td>F</td>\n",
       "      <td>Enfermeria</td>\n",
       "      <td>Primero</td>\n",
       "    </tr>\n",
       "    <tr>\n",
       "      <th>11</th>\n",
       "      <td>Fernando</td>\n",
       "      <td>33</td>\n",
       "      <td>M</td>\n",
       "      <td>Desarrollo de software</td>\n",
       "      <td>Primero</td>\n",
       "    </tr>\n",
       "  </tbody>\n",
       "</table>\n",
       "</div>"
      ],
      "text/plain": [
       "      NOMBRE  EDAD GENERO                 CARRERA SEMESTRE\n",
       "7      Pedro    13      M  Desarrollo de software  Primero\n",
       "8      Julio    25      M             Gastronomia  Segundo\n",
       "9   Isabella    68      F              Enfermeria  Primero\n",
       "10    Susana    77      F              Enfermeria  Primero\n",
       "11  Fernando    33      M  Desarrollo de software  Primero"
      ]
     },
     "execution_count": 6,
     "metadata": {},
     "output_type": "execute_result"
    }
   ],
   "source": [
    "estudiantes.tail()"
   ]
  },
  {
   "cell_type": "code",
   "execution_count": null,
   "metadata": {},
   "outputs": [
    {
     "data": {
      "text/html": [
       "<div>\n",
       "<style scoped>\n",
       "    .dataframe tbody tr th:only-of-type {\n",
       "        vertical-align: middle;\n",
       "    }\n",
       "\n",
       "    .dataframe tbody tr th {\n",
       "        vertical-align: top;\n",
       "    }\n",
       "\n",
       "    .dataframe thead th {\n",
       "        text-align: right;\n",
       "    }\n",
       "</style>\n",
       "<table border=\"1\" class=\"dataframe\">\n",
       "  <thead>\n",
       "    <tr style=\"text-align: right;\">\n",
       "      <th></th>\n",
       "      <th>NOMBRE</th>\n",
       "      <th>EDAD</th>\n",
       "      <th>GENERO</th>\n",
       "    </tr>\n",
       "  </thead>\n",
       "  <tbody>\n",
       "    <tr>\n",
       "      <th>3</th>\n",
       "      <td>Nayrobi</td>\n",
       "      <td>20</td>\n",
       "      <td>F</td>\n",
       "    </tr>\n",
       "    <tr>\n",
       "      <th>4</th>\n",
       "      <td>Anastasia</td>\n",
       "      <td>40</td>\n",
       "      <td>F</td>\n",
       "    </tr>\n",
       "    <tr>\n",
       "      <th>5</th>\n",
       "      <td>Rolando</td>\n",
       "      <td>40</td>\n",
       "      <td>M</td>\n",
       "    </tr>\n",
       "  </tbody>\n",
       "</table>\n",
       "</div>"
      ],
      "text/plain": [
       "      NOMBRE  EDAD GENERO\n",
       "3    Nayrobi    20      F\n",
       "4  Anastasia    40      F\n",
       "5    Rolando    40      M"
      ]
     },
     "execution_count": 14,
     "metadata": {},
     "output_type": "execute_result"
    }
   ],
   "source": [
    "#Filtrar datos segun el nombre: loc([indiceFila, nombreColumna])\n",
    "\n",
    "estudiantes.loc[3:5, ['NOMBRE', 'EDAD', 'GENERO']]"
   ]
  },
  {
   "cell_type": "code",
   "execution_count": null,
   "metadata": {},
   "outputs": [
    {
     "data": {
      "text/html": [
       "<div>\n",
       "<style scoped>\n",
       "    .dataframe tbody tr th:only-of-type {\n",
       "        vertical-align: middle;\n",
       "    }\n",
       "\n",
       "    .dataframe tbody tr th {\n",
       "        vertical-align: top;\n",
       "    }\n",
       "\n",
       "    .dataframe thead th {\n",
       "        text-align: right;\n",
       "    }\n",
       "</style>\n",
       "<table border=\"1\" class=\"dataframe\">\n",
       "  <thead>\n",
       "    <tr style=\"text-align: right;\">\n",
       "      <th></th>\n",
       "      <th>NOMBRE</th>\n",
       "      <th>EDAD</th>\n",
       "      <th>GENERO</th>\n",
       "    </tr>\n",
       "  </thead>\n",
       "  <tbody>\n",
       "    <tr>\n",
       "      <th>3</th>\n",
       "      <td>Nayrobi</td>\n",
       "      <td>20</td>\n",
       "      <td>F</td>\n",
       "    </tr>\n",
       "    <tr>\n",
       "      <th>4</th>\n",
       "      <td>Anastasia</td>\n",
       "      <td>40</td>\n",
       "      <td>F</td>\n",
       "    </tr>\n",
       "    <tr>\n",
       "      <th>5</th>\n",
       "      <td>Rolando</td>\n",
       "      <td>40</td>\n",
       "      <td>M</td>\n",
       "    </tr>\n",
       "  </tbody>\n",
       "</table>\n",
       "</div>"
      ],
      "text/plain": [
       "      NOMBRE  EDAD GENERO\n",
       "3    Nayrobi    20      F\n",
       "4  Anastasia    40      F\n",
       "5    Rolando    40      M"
      ]
     },
     "execution_count": 17,
     "metadata": {},
     "output_type": "execute_result"
    }
   ],
   "source": [
    "#Filtrar datos segun posicion: iloc([indiceFila, indicecolumna])\n",
    "\n",
    "estudiantes.iloc[3:6, 0:3]"
   ]
  },
  {
   "cell_type": "code",
   "execution_count": 28,
   "metadata": {},
   "outputs": [
    {
     "data": {
      "text/plain": [
       "NOMBRE       Anastasia\n",
       "EDAD                40\n",
       "GENERO               F\n",
       "CARRERA    Gastronomia\n",
       "Name: 4, dtype: object"
      ]
     },
     "execution_count": 28,
     "metadata": {},
     "output_type": "execute_result"
    }
   ],
   "source": [
    "#Filtrar solo la informacion de Anastasia, forma 1\n",
    "\n",
    "estudiantes.iloc[4, 0:4]"
   ]
  },
  {
   "cell_type": "code",
   "execution_count": 29,
   "metadata": {},
   "outputs": [
    {
     "data": {
      "text/html": [
       "<div>\n",
       "<style scoped>\n",
       "    .dataframe tbody tr th:only-of-type {\n",
       "        vertical-align: middle;\n",
       "    }\n",
       "\n",
       "    .dataframe tbody tr th {\n",
       "        vertical-align: top;\n",
       "    }\n",
       "\n",
       "    .dataframe thead th {\n",
       "        text-align: right;\n",
       "    }\n",
       "</style>\n",
       "<table border=\"1\" class=\"dataframe\">\n",
       "  <thead>\n",
       "    <tr style=\"text-align: right;\">\n",
       "      <th></th>\n",
       "      <th>NOMBRE</th>\n",
       "      <th>EDAD</th>\n",
       "      <th>GENERO</th>\n",
       "      <th>CARRERA</th>\n",
       "      <th>SEMESTRE</th>\n",
       "    </tr>\n",
       "  </thead>\n",
       "  <tbody>\n",
       "    <tr>\n",
       "      <th>4</th>\n",
       "      <td>Anastasia</td>\n",
       "      <td>40</td>\n",
       "      <td>F</td>\n",
       "      <td>Gastronomia</td>\n",
       "      <td>Segundo</td>\n",
       "    </tr>\n",
       "  </tbody>\n",
       "</table>\n",
       "</div>"
      ],
      "text/plain": [
       "      NOMBRE  EDAD GENERO      CARRERA SEMESTRE\n",
       "4  Anastasia    40      F  Gastronomia  Segundo"
      ]
     },
     "execution_count": 29,
     "metadata": {},
     "output_type": "execute_result"
    }
   ],
   "source": [
    "#Filtrar solo la informacion de Anastasia, forma 2\n",
    "\n",
    "\n",
    "estudiantes[estudiantes[\"NOMBRE\"] == \"Anastasia\"]"
   ]
  },
  {
   "cell_type": "code",
   "execution_count": 30,
   "metadata": {},
   "outputs": [
    {
     "data": {
      "text/html": [
       "<div>\n",
       "<style scoped>\n",
       "    .dataframe tbody tr th:only-of-type {\n",
       "        vertical-align: middle;\n",
       "    }\n",
       "\n",
       "    .dataframe tbody tr th {\n",
       "        vertical-align: top;\n",
       "    }\n",
       "\n",
       "    .dataframe thead th {\n",
       "        text-align: right;\n",
       "    }\n",
       "</style>\n",
       "<table border=\"1\" class=\"dataframe\">\n",
       "  <thead>\n",
       "    <tr style=\"text-align: right;\">\n",
       "      <th></th>\n",
       "      <th>NOMBRE</th>\n",
       "      <th>EDAD</th>\n",
       "      <th>GENERO</th>\n",
       "      <th>CARRERA</th>\n",
       "      <th>SEMESTRE</th>\n",
       "    </tr>\n",
       "  </thead>\n",
       "  <tbody>\n",
       "    <tr>\n",
       "      <th>5</th>\n",
       "      <td>Rolando</td>\n",
       "      <td>40</td>\n",
       "      <td>M</td>\n",
       "      <td>Audiovisuales</td>\n",
       "      <td>Segundo</td>\n",
       "    </tr>\n",
       "    <tr>\n",
       "      <th>11</th>\n",
       "      <td>Fernando</td>\n",
       "      <td>33</td>\n",
       "      <td>M</td>\n",
       "      <td>Desarrollo de software</td>\n",
       "      <td>Primero</td>\n",
       "    </tr>\n",
       "  </tbody>\n",
       "</table>\n",
       "</div>"
      ],
      "text/plain": [
       "      NOMBRE  EDAD GENERO                 CARRERA SEMESTRE\n",
       "5    Rolando    40      M           Audiovisuales  Segundo\n",
       "11  Fernando    33      M  Desarrollo de software  Primero"
      ]
     },
     "execution_count": 30,
     "metadata": {},
     "output_type": "execute_result"
    }
   ],
   "source": [
    "#Filtrar hombres mayores de 30\n",
    "\n",
    "estudiantes[(estudiantes[\"GENERO\"] == \"M\") & (estudiantes[\"EDAD\"] > 30)]"
   ]
  },
  {
   "cell_type": "code",
   "execution_count": 37,
   "metadata": {},
   "outputs": [
    {
     "name": "stdout",
     "output_type": "stream",
     "text": [
      "La edad promedio es:  33.25\n",
      "La edad maxima es:  77\n",
      "La edad minima es:  13\n",
      "Desviacion standar de la edad es:  20.556463261421744\n"
     ]
    }
   ],
   "source": [
    "#Edad promedio\n",
    "print(\"La edad promedio es: \", estudiantes[\"EDAD\"].mean())\n",
    "\n",
    "#Edad maxima\n",
    "print(\"La edad maxima es: \", estudiantes[\"EDAD\"].max())\n",
    "\n",
    "#Edad minima\n",
    "print(\"La edad minima es: \", estudiantes[\"EDAD\"].min())\n",
    "\n",
    "#Desviacion standar edad\n",
    "print(\"Desviacion standar de la edad es: \", estudiantes[\"EDAD\"].std())"
   ]
  },
  {
   "cell_type": "code",
   "execution_count": 39,
   "metadata": {},
   "outputs": [
    {
     "data": {
      "text/html": [
       "<div>\n",
       "<style scoped>\n",
       "    .dataframe tbody tr th:only-of-type {\n",
       "        vertical-align: middle;\n",
       "    }\n",
       "\n",
       "    .dataframe tbody tr th {\n",
       "        vertical-align: top;\n",
       "    }\n",
       "\n",
       "    .dataframe thead th {\n",
       "        text-align: right;\n",
       "    }\n",
       "</style>\n",
       "<table border=\"1\" class=\"dataframe\">\n",
       "  <thead>\n",
       "    <tr style=\"text-align: right;\">\n",
       "      <th></th>\n",
       "      <th>Nombre</th>\n",
       "      <th>Ocupacion</th>\n",
       "    </tr>\n",
       "  </thead>\n",
       "  <tbody>\n",
       "    <tr>\n",
       "      <th>0</th>\n",
       "      <td>Laura</td>\n",
       "      <td>Docente</td>\n",
       "    </tr>\n",
       "    <tr>\n",
       "      <th>1</th>\n",
       "      <td>Fernando</td>\n",
       "      <td>Futbolista</td>\n",
       "    </tr>\n",
       "    <tr>\n",
       "      <th>2</th>\n",
       "      <td>Pedro</td>\n",
       "      <td>Entrenador</td>\n",
       "    </tr>\n",
       "  </tbody>\n",
       "</table>\n",
       "</div>"
      ],
      "text/plain": [
       "     Nombre   Ocupacion\n",
       "0     Laura     Docente\n",
       "1  Fernando  Futbolista\n",
       "2     Pedro  Entrenador"
      ]
     },
     "execution_count": 39,
     "metadata": {},
     "output_type": "execute_result"
    }
   ],
   "source": [
    "estudiantes = {\"Nombre\": [\"Laura\", \"Fernando\", \"Pedro\"],\n",
    "               \"Ocupacion\": [\"Docente\", \"Futbolista\", \"Entrenador\"]}\n",
    "\n",
    "df = pd.DataFrame(estudiantes)\n",
    "df"
   ]
  }
 ],
 "metadata": {
  "kernelspec": {
   "display_name": "analisisDatos",
   "language": "python",
   "name": "python3"
  },
  "language_info": {
   "codemirror_mode": {
    "name": "ipython",
    "version": 3
   },
   "file_extension": ".py",
   "mimetype": "text/x-python",
   "name": "python",
   "nbconvert_exporter": "python",
   "pygments_lexer": "ipython3",
   "version": "3.12.1"
  }
 },
 "nbformat": 4,
 "nbformat_minor": 2
}
