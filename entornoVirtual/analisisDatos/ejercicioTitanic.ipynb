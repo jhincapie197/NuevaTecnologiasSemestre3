{
 "cells": [
  {
   "cell_type": "code",
   "execution_count": 2,
   "metadata": {},
   "outputs": [],
   "source": [
    "import pandas as ps"
   ]
  },
  {
   "cell_type": "code",
   "execution_count": 3,
   "metadata": {},
   "outputs": [
    {
     "name": "stdout",
     "output_type": "stream",
     "text": [
      "     PassengerId  Survived  Pclass  \\\n",
      "0              1         0       3   \n",
      "1              2         1       1   \n",
      "2              3         1       3   \n",
      "3              4         1       1   \n",
      "4              5         0       3   \n",
      "..           ...       ...     ...   \n",
      "238          239         0       2   \n",
      "239          240         0       2   \n",
      "240          241         0       3   \n",
      "241          242         1       3   \n",
      "242          243         0       2   \n",
      "\n",
      "                                                  Name     Sex   Age  SibSp  \\\n",
      "0                              Braund, Mr. Owen Harris    male  22.0      1   \n",
      "1    Cumings, Mrs. John Bradley (Florence Briggs Th...  female  38.0      1   \n",
      "2                               Heikkinen, Miss. Laina  female  26.0      0   \n",
      "3         Futrelle, Mrs. Jacques Heath (Lily May Peel)  female  35.0      1   \n",
      "4                             Allen, Mr. William Henry    male  35.0      0   \n",
      "..                                                 ...     ...   ...    ...   \n",
      "238                    Pengelly, Mr. Frederick William    male  19.0      0   \n",
      "239                             Hunt, Mr. George Henry    male  33.0      0   \n",
      "240                              Zabour, Miss. Thamine  female   NaN      1   \n",
      "241                     Murphy, Miss. Katherine \"Kate\"  female   NaN      1   \n",
      "242                    Coleridge, Mr. Reginald Charles    male  29.0      0   \n",
      "\n",
      "     Parch            Ticket     Fare Cabin Embarked  \n",
      "0        0         A/5 21171   7.2500   NaN        S  \n",
      "1        0          PC 17599  71.2833   C85        C  \n",
      "2        0  STON/O2. 3101282   7.9250   NaN        S  \n",
      "3        0            113803  53.1000  C123        S  \n",
      "4        0            373450   8.0500   NaN        S  \n",
      "..     ...               ...      ...   ...      ...  \n",
      "238      0             28665  10.5000   NaN        S  \n",
      "239      0        SCO/W 1585  12.2750   NaN        S  \n",
      "240      0              2665  14.4542   NaN        C  \n",
      "241      0            367230  15.5000   NaN        Q  \n",
      "242      0       W./C. 14263  10.5000   NaN        S  \n",
      "\n",
      "[243 rows x 12 columns]\n"
     ]
    }
   ],
   "source": [
    "titanic = ps.read_csv('titanic.csv')\n",
    "print (titanic)"
   ]
  },
  {
   "cell_type": "code",
   "execution_count": 4,
   "metadata": {},
   "outputs": [
    {
     "name": "stdout",
     "output_type": "stream",
     "text": [
      "Primeras filas:     PassengerId  Survived  Pclass  \\\n",
      "0            1         0       3   \n",
      "1            2         1       1   \n",
      "2            3         1       3   \n",
      "3            4         1       1   \n",
      "4            5         0       3   \n",
      "\n",
      "                                                Name     Sex   Age  SibSp  \\\n",
      "0                            Braund, Mr. Owen Harris    male  22.0      1   \n",
      "1  Cumings, Mrs. John Bradley (Florence Briggs Th...  female  38.0      1   \n",
      "2                             Heikkinen, Miss. Laina  female  26.0      0   \n",
      "3       Futrelle, Mrs. Jacques Heath (Lily May Peel)  female  35.0      1   \n",
      "4                           Allen, Mr. William Henry    male  35.0      0   \n",
      "\n",
      "   Parch            Ticket     Fare Cabin Embarked  \n",
      "0      0         A/5 21171   7.2500   NaN        S  \n",
      "1      0          PC 17599  71.2833   C85        C  \n",
      "2      0  STON/O2. 3101282   7.9250   NaN        S  \n",
      "3      0            113803  53.1000  C123        S  \n",
      "4      0            373450   8.0500   NaN        S  \n"
     ]
    }
   ],
   "source": [
    "\n",
    "#Ver las primeras filas del DataFrame\n",
    "print(\"Primeras filas: \", titanic.head())"
   ]
  },
  {
   "cell_type": "code",
   "execution_count": 6,
   "metadata": {},
   "outputs": [
    {
     "name": "stdout",
     "output_type": "stream",
     "text": [
      "\n",
      "Cantidad de filas y columnas:\n",
      "(243, 12)\n"
     ]
    }
   ],
   "source": [
    "# Cantidad de filas y columnas\n",
    "print(\"\\nCantidad de filas y columnas:\")\n",
    "print(titanic.shape)"
   ]
  },
  {
   "cell_type": "code",
   "execution_count": 7,
   "metadata": {},
   "outputs": [
    {
     "name": "stdout",
     "output_type": "stream",
     "text": [
      "\n",
      "Tipos de datos de las columnas:\n",
      "PassengerId      int64\n",
      "Survived         int64\n",
      "Pclass           int64\n",
      "Name            object\n",
      "Sex             object\n",
      "Age            float64\n",
      "SibSp            int64\n",
      "Parch            int64\n",
      "Ticket          object\n",
      "Fare           float64\n",
      "Cabin           object\n",
      "Embarked        object\n",
      "dtype: object\n"
     ]
    }
   ],
   "source": [
    "# Tipos de datos de las columnas\n",
    "print(\"\\nTipos de datos de las columnas:\")\n",
    "print(titanic.dtypes)"
   ]
  },
  {
   "cell_type": "code",
   "execution_count": 10,
   "metadata": {},
   "outputs": [
    {
     "name": "stdout",
     "output_type": "stream",
     "text": [
      "     PassengerId  Survived  Pclass  \\\n",
      "1              2         1       1   \n",
      "3              4         1       1   \n",
      "6              7         0       1   \n",
      "10            11         1       3   \n",
      "11            12         1       1   \n",
      "21            22         1       2   \n",
      "23            24         1       1   \n",
      "27            28         0       1   \n",
      "52            53         1       1   \n",
      "54            55         0       1   \n",
      "62            63         0       1   \n",
      "66            67         1       2   \n",
      "75            76         0       3   \n",
      "88            89         1       1   \n",
      "92            93         0       1   \n",
      "96            97         0       1   \n",
      "97            98         1       1   \n",
      "102          103         0       1   \n",
      "110          111         0       1   \n",
      "118          119         0       1   \n",
      "123          124         1       2   \n",
      "124          125         0       1   \n",
      "136          137         1       1   \n",
      "137          138         0       1   \n",
      "139          140         0       1   \n",
      "148          149         0       2   \n",
      "151          152         1       1   \n",
      "170          171         0       1   \n",
      "174          175         0       1   \n",
      "177          178         0       1   \n",
      "183          184         1       2   \n",
      "193          194         1       2   \n",
      "194          195         1       1   \n",
      "195          196         1       1   \n",
      "205          206         0       3   \n",
      "209          210         1       1   \n",
      "215          216         1       1   \n",
      "218          219         1       1   \n",
      "224          225         1       1   \n",
      "230          231         1       1   \n",
      "\n",
      "                                                  Name     Sex   Age  SibSp  \\\n",
      "1    Cumings, Mrs. John Bradley (Florence Briggs Th...  female  38.0      1   \n",
      "3         Futrelle, Mrs. Jacques Heath (Lily May Peel)  female  35.0      1   \n",
      "6                              McCarthy, Mr. Timothy J    male  54.0      0   \n",
      "10                     Sandstrom, Miss. Marguerite Rut  female   4.0      1   \n",
      "11                            Bonnell, Miss. Elizabeth  female  58.0      0   \n",
      "21                               Beesley, Mr. Lawrence    male  34.0      0   \n",
      "23                        Sloper, Mr. William Thompson    male  28.0      0   \n",
      "27                      Fortune, Mr. Charles Alexander    male  19.0      3   \n",
      "52            Harper, Mrs. Henry Sleeper (Myna Haxtun)  female  49.0      1   \n",
      "54                      Ostby, Mr. Engelhart Cornelius    male  65.0      0   \n",
      "62                         Harris, Mr. Henry Birkhardt    male  45.0      1   \n",
      "66                        Nye, Mrs. (Elizabeth Ramell)  female  29.0      0   \n",
      "75                             Moen, Mr. Sigurd Hansen    male  25.0      0   \n",
      "88                          Fortune, Miss. Mabel Helen  female  23.0      3   \n",
      "92                         Chaffee, Mr. Herbert Fuller    male  46.0      1   \n",
      "96                           Goldschmidt, Mr. George B    male  71.0      0   \n",
      "97                     Greenfield, Mr. William Bertram    male  23.0      0   \n",
      "102                          White, Mr. Richard Frasar    male  21.0      0   \n",
      "110                     Porter, Mr. Walter Chamberlain    male  47.0      0   \n",
      "118                           Baxter, Mr. Quigg Edmond    male  24.0      0   \n",
      "123                                Webber, Miss. Susan  female  32.5      0   \n",
      "124                        White, Mr. Percival Wayland    male  54.0      0   \n",
      "136                       Newsom, Miss. Helen Monypeny  female  19.0      0   \n",
      "137                        Futrelle, Mr. Jacques Heath    male  37.0      1   \n",
      "139                                 Giglio, Mr. Victor    male  24.0      0   \n",
      "148           Navratil, Mr. Michel (\"Louis M Hoffman\")    male  36.5      0   \n",
      "151                  Pears, Mrs. Thomas (Edith Wearne)  female  22.0      1   \n",
      "170                          Van der hoef, Mr. Wyckoff    male  61.0      0   \n",
      "174                            Smith, Mr. James Clinch    male  56.0      0   \n",
      "177                         Isham, Miss. Ann Elizabeth  female  50.0      0   \n",
      "183                          Becker, Master. Richard F    male   1.0      2   \n",
      "193                         Navratil, Master. Michel M    male   3.0      1   \n",
      "194          Brown, Mrs. James Joseph (Margaret Tobin)  female  44.0      0   \n",
      "195                               Lurette, Miss. Elise  female  58.0      0   \n",
      "205                         Strom, Miss. Telma Matilda  female   2.0      0   \n",
      "209                                   Blank, Mr. Henry    male  40.0      0   \n",
      "215                            Newell, Miss. Madeleine  female  31.0      1   \n",
      "218                              Bazzani, Miss. Albina  female  32.0      0   \n",
      "224                       Hoyt, Mr. Frederick Maxfield    male  38.0      1   \n",
      "230       Harris, Mrs. Henry Birkhardt (Irene Wallach)  female  35.0      1   \n",
      "\n",
      "     Parch       Ticket      Fare        Cabin Embarked  \n",
      "1        0     PC 17599   71.2833          C85        C  \n",
      "3        0       113803   53.1000         C123        S  \n",
      "6        0        17463   51.8625          E46        S  \n",
      "10       1      PP 9549   16.7000           G6        S  \n",
      "11       0       113783   26.5500         C103        S  \n",
      "21       0       248698   13.0000          D56        S  \n",
      "23       0       113788   35.5000           A6        S  \n",
      "27       2        19950  263.0000  C23 C25 C27        S  \n",
      "52       0     PC 17572   76.7292          D33        C  \n",
      "54       1       113509   61.9792          B30        C  \n",
      "62       0        36973   83.4750          C83        S  \n",
      "66       0   C.A. 29395   10.5000          F33        S  \n",
      "75       0       348123    7.6500        F G73        S  \n",
      "88       2        19950  263.0000  C23 C25 C27        S  \n",
      "92       0  W.E.P. 5734   61.1750          E31        S  \n",
      "96       0     PC 17754   34.6542           A5        C  \n",
      "97       1     PC 17759   63.3583      D10 D12        C  \n",
      "102      1        35281   77.2875          D26        S  \n",
      "110      0       110465   52.0000         C110        S  \n",
      "118      1     PC 17558  247.5208      B58 B60        C  \n",
      "123      0        27267   13.0000         E101        S  \n",
      "124      1        35281   77.2875          D26        S  \n",
      "136      2        11752   26.2833          D47        S  \n",
      "137      0       113803   53.1000         C123        S  \n",
      "139      0     PC 17593   79.2000          B86        C  \n",
      "148      2       230080   26.0000           F2        S  \n",
      "151      0       113776   66.6000           C2        S  \n",
      "170      0       111240   33.5000          B19        S  \n",
      "174      0        17764   30.6958           A7        C  \n",
      "177      0     PC 17595   28.7125          C49        C  \n",
      "183      1       230136   39.0000           F4        S  \n",
      "193      1       230080   26.0000           F2        S  \n",
      "194      0     PC 17610   27.7208           B4        C  \n",
      "195      0     PC 17569  146.5208          B80        C  \n",
      "205      1       347054   10.4625           G6        S  \n",
      "209      0       112277   31.0000          A31        C  \n",
      "215      0        35273  113.2750          D36        C  \n",
      "218      0        11813   76.2917          D15        C  \n",
      "224      0        19943   90.0000          C93        S  \n",
      "230      0        36973   83.4750          C83        S  \n",
      "\n",
      "Cantidad de filas después de eliminar los nulos:\n",
      "(40, 12)\n"
     ]
    }
   ],
   "source": [
    "#2. Averiguar como eliminar datos nulos de un DataFrame\n",
    "# Eliminar filas con datos nulos en todas las columnas\n",
    "titanic_cleaned = titanic.dropna()\n",
    "print(titanic_cleaned)\n",
    "\n",
    "# Si solo quieres eliminar filas donde la columna 'Age' tiene valores nulos\n",
    "titanic_cleaned_age = titanic.dropna(subset=['Age'])\n",
    "\n",
    "# Imprimir la cantidad de filas después de eliminar los nulos\n",
    "print(\"\\nCantidad de filas después de eliminar los nulos:\")\n",
    "print(titanic_cleaned.shape)\n"
   ]
  },
  {
   "cell_type": "code",
   "execution_count": 11,
   "metadata": {},
   "outputs": [
    {
     "name": "stdout",
     "output_type": "stream",
     "text": [
      "Cantidad de hombres: 159\n",
      "Cantidad de mujeres: 84\n"
     ]
    }
   ],
   "source": [
    "#3. Filtrar cantidad de homres y mujeres que registran como pasajeros.\n",
    "# Contar la cantidad de hombres\n",
    "cantidad_hombres = titanic[titanic['Sex'] == 'male'].shape[0]\n",
    "\n",
    "# Contar la cantidad de mujeres\n",
    "cantidad_mujeres = titanic[titanic['Sex'] == 'female'].shape[0]\n",
    "\n",
    "print(\"Cantidad de hombres:\", cantidad_hombres)\n",
    "print(\"Cantidad de mujeres:\", cantidad_mujeres)"
   ]
  },
  {
   "cell_type": "code",
   "execution_count": 1,
   "metadata": {},
   "outputs": [
    {
     "ename": "NameError",
     "evalue": "name 'titanic' is not defined",
     "output_type": "error",
     "traceback": [
      "\u001b[1;31m---------------------------------------------------------------------------\u001b[0m",
      "\u001b[1;31mNameError\u001b[0m                                 Traceback (most recent call last)",
      "Cell \u001b[1;32mIn[1], line 3\u001b[0m\n\u001b[0;32m      1\u001b[0m \u001b[38;5;66;03m#4. Averiguar como limpiar datos, es decir eliminar o transformar datos.\u001b[39;00m\n\u001b[0;32m      2\u001b[0m \u001b[38;5;66;03m# Eliminar las columnas 'PassengerId' y 'Ticket'\u001b[39;00m\n\u001b[1;32m----> 3\u001b[0m titanic_cleaned \u001b[38;5;241m=\u001b[39m \u001b[43mtitanic\u001b[49m\u001b[38;5;241m.\u001b[39mdrop(columns\u001b[38;5;241m=\u001b[39m[\u001b[38;5;124m'\u001b[39m\u001b[38;5;124mPassengerId\u001b[39m\u001b[38;5;124m'\u001b[39m, \u001b[38;5;124m'\u001b[39m\u001b[38;5;124mTicket\u001b[39m\u001b[38;5;124m'\u001b[39m])\n\u001b[0;32m      5\u001b[0m \u001b[38;5;28mprint\u001b[39m(\u001b[38;5;124m\"\u001b[39m\u001b[38;5;130;01m\\n\u001b[39;00m\u001b[38;5;124mDataFrame sin las columnas \u001b[39m\u001b[38;5;124m'\u001b[39m\u001b[38;5;124mPassengerId\u001b[39m\u001b[38;5;124m'\u001b[39m\u001b[38;5;124m y \u001b[39m\u001b[38;5;124m'\u001b[39m\u001b[38;5;124mTicket\u001b[39m\u001b[38;5;124m'\u001b[39m\u001b[38;5;124m:\u001b[39m\u001b[38;5;124m\"\u001b[39m)\n\u001b[0;32m      6\u001b[0m \u001b[38;5;28mprint\u001b[39m(titanic_cleaned\u001b[38;5;241m.\u001b[39mhead())\n",
      "\u001b[1;31mNameError\u001b[0m: name 'titanic' is not defined"
     ]
    }
   ],
   "source": [
    "#4. Averiguar como limpiar datos, es decir eliminar o transformar datos.\n",
    "# Eliminar las columnas 'PassengerId' y 'Ticket'\n",
    "titanic_cleaned = titanic.drop(columns=['PassengerId', 'Ticket'])\n",
    "\n",
    "print(\"\\nDataFrame sin las columnas 'PassengerId' y 'Ticket':\")\n",
    "print(titanic_cleaned.head())"
   ]
  },
  {
   "cell_type": "code",
   "execution_count": 14,
   "metadata": {},
   "outputs": [
    {
     "name": "stdout",
     "output_type": "stream",
     "text": [
      "\n",
      "DataFrame con los nombres de las columnas en minúsculas:\n",
      "   passengerid  survived  pclass  \\\n",
      "0            1         0       3   \n",
      "1            2         1       1   \n",
      "2            3         1       3   \n",
      "3            4         1       1   \n",
      "4            5         0       3   \n",
      "\n",
      "                                                name     sex   age  sibsp  \\\n",
      "0                            Braund, Mr. Owen Harris    male  22.0      1   \n",
      "1  Cumings, Mrs. John Bradley (Florence Briggs Th...  female  38.0      1   \n",
      "2                             Heikkinen, Miss. Laina  female  26.0      0   \n",
      "3       Futrelle, Mrs. Jacques Heath (Lily May Peel)  female  35.0      1   \n",
      "4                           Allen, Mr. William Henry    male  35.0      0   \n",
      "\n",
      "   parch            ticket     fare cabin embarked  \n",
      "0      0         A/5 21171   7.2500   NaN        S  \n",
      "1      0          PC 17599  71.2833   C85        C  \n",
      "2      0  STON/O2. 3101282   7.9250   NaN        S  \n",
      "3      0            113803  53.1000  C123        S  \n",
      "4      0            373450   8.0500   NaN        S  \n"
     ]
    }
   ],
   "source": [
    "# Convertir nombres de columnas a minúsculas\n",
    "titanic.columns = titanic.columns.str.lower()\n",
    "\n",
    "print(\"\\nDataFrame con los nombres de las columnas en minúsculas:\")\n",
    "print(titanic.head())"
   ]
  }
 ],
 "metadata": {
  "kernelspec": {
   "display_name": "Python 3",
   "language": "python",
   "name": "python3"
  },
  "language_info": {
   "codemirror_mode": {
    "name": "ipython",
    "version": 3
   },
   "file_extension": ".py",
   "mimetype": "text/x-python",
   "name": "python",
   "nbconvert_exporter": "python",
   "pygments_lexer": "ipython3",
   "version": "3.12.1"
  }
 },
 "nbformat": 4,
 "nbformat_minor": 2
}
